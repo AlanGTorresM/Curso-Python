{
 "cells": [
  {
   "cell_type": "markdown",
   "metadata": {},
   "source": [
    "# Clase 1"
   ]
  },
  {
   "cell_type": "code",
   "execution_count": 1,
   "metadata": {},
   "outputs": [
    {
     "name": "stdout",
     "output_type": "stream",
     "text": [
      "Hola Mundo\n"
     ]
    }
   ],
   "source": [
    "print (\"Hola Mundo\")"
   ]
  },
  {
   "cell_type": "code",
   "execution_count": 3,
   "metadata": {},
   "outputs": [],
   "source": [
    "mi_nombre=\"Alan Torres\"\n",
    "mi_correo=\"alantorres88@aragon.unam.mx\"\n",
    "mi_altura=1.80"
   ]
  },
  {
   "cell_type": "code",
   "execution_count": 5,
   "metadata": {},
   "outputs": [
    {
     "name": "stdout",
     "output_type": "stream",
     "text": [
      "45\n",
      "25\n",
      "350\n",
      "3.5\n"
     ]
    }
   ],
   "source": [
    "valor_1=35\n",
    "valor_2=10\n",
    "suma=valor_1+valor_2\n",
    "print(suma)\n",
    "resta= valor_1-valor_2\n",
    "print(resta)\n",
    "multiplicacion= valor_1 * valor_2\n",
    "print(multiplicacion)\n",
    "division= valor_1/ valor_2\n",
    "print(division)"
   ]
  },
  {
   "cell_type": "code",
   "execution_count": 6,
   "metadata": {},
   "outputs": [
    {
     "name": "stdout",
     "output_type": "stream",
     "text": [
      "la suma de35 y 10 es 45\n"
     ]
    }
   ],
   "source": [
    "print(f'la suma de {valor_1} y {valor_2} es {suma}')"
   ]
  },
  {
   "cell_type": "markdown",
   "metadata": {},
   "source": [
    "Hola\n"
   ]
  },
  {
   "cell_type": "code",
   "execution_count": 7,
   "metadata": {},
   "outputs": [
    {
     "data": {
      "text/plain": [
       "'202020'"
      ]
     },
     "execution_count": 7,
     "metadata": {},
     "output_type": "execute_result"
    }
   ],
   "source": [
    "valor_1=input ('dame un valor')\n",
    "valor_1*3"
   ]
  },
  {
   "cell_type": "code",
   "execution_count": null,
   "metadata": {},
   "outputs": [],
   "source": []
  }
 ],
 "metadata": {
  "kernelspec": {
   "display_name": "Python 3.7.8 64-bit",
   "language": "python",
   "name": "python3"
  },
  "language_info": {
   "codemirror_mode": {
    "name": "ipython",
    "version": 3
   },
   "file_extension": ".py",
   "mimetype": "text/x-python",
   "name": "python",
   "nbconvert_exporter": "python",
   "pygments_lexer": "ipython3",
   "version": "3.7.8"
  },
  "orig_nbformat": 4,
  "vscode": {
   "interpreter": {
    "hash": "7e2d346e60102c9563dafef1d99ea3d3a1269e5dd081f0a97d00c48dcdc257ef"
   }
  }
 },
 "nbformat": 4,
 "nbformat_minor": 2
}
