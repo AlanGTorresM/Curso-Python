{
 "cells": [
  {
   "cell_type": "code",
   "execution_count": 98,
   "metadata": {},
   "outputs": [
    {
     "data": {
      "text/plain": [
       "2"
      ]
     },
     "execution_count": 98,
     "metadata": {},
     "output_type": "execute_result"
    }
   ],
   "source": [
    "def duplicate_count(text):\n",
    "    counter=0\n",
    "    counter2=0\n",
    "    text2=[]\n",
    "    for i in text:\n",
    "        text2.append(i.lower())\n",
    "    text2.sort()\n",
    "    text2.append('')\n",
    "    for i in range (len(text2)-1):\n",
    "        if text2[i] != text2[i+1]:\n",
    "            counter2=text2.count(text2[i])\n",
    "            if (text2.count(text2[i])>1):\n",
    "                counter+=1\n",
    "\n",
    "    return counter\n",
    "duplicate_count(\"ABBA\")"
   ]
  },
  {
   "cell_type": "code",
   "execution_count": 33,
   "metadata": {},
   "outputs": [
    {
     "data": {
      "text/plain": [
       "['A', 'B', 'C', 'D', 'A', 'B']"
      ]
     },
     "execution_count": 33,
     "metadata": {},
     "output_type": "execute_result"
    }
   ],
   "source": [
    "def unique_in_order(iterable):\n",
    "    list=[]\n",
    "    list2=[]\n",
    "    for i in iterable:\n",
    "        list.append(i)\n",
    "    list.append('')\n",
    "    for i in range (len(list)-1):\n",
    "        if (list[i]!=list[i+1]):\n",
    "            \n",
    "            list2.append(list[i])\n",
    "    return list2\n",
    "unique_in_order('AAAABBBCCDAABBB')"
   ]
  },
  {
   "cell_type": "code",
   "execution_count": 8,
   "metadata": {},
   "outputs": [
    {
     "name": "stdout",
     "output_type": "stream",
     "text": [
      "[-2, -2, -1, -1, 1, 1, 2, 2, 3, 3, 4, 4, 5, 5, 5, 20, 20, '']\n",
      "[-2, -2, -1, 1, 1, 2, 2, 4, 4, 5, 5, '']\n"
     ]
    },
    {
     "data": {
      "text/plain": [
       "-1"
      ]
     },
     "execution_count": 8,
     "metadata": {},
     "output_type": "execute_result"
    }
   ],
   "source": [
    "def find_it(seq):\n",
    "    counter=0\n",
    "    list=[]\n",
    "    seq.sort()\n",
    "    seq.append('')\n",
    "    for i in range(len(seq)-1):\n",
    "        if(seq[i]!=seq[i+1]):\n",
    "            x=seq.count(seq[i])\n",
    "            if(x%2!=0):\n",
    "                counter=seq[i]\n",
    "    print(seq)\n",
    "    return counter\n",
    "\n",
    "find_it([20,1,-1,2,-2,3,3,5,5,1,2,4,20,4,-1,-2,5])\n"
   ]
  },
  {
   "cell_type": "code",
   "execution_count": 33,
   "metadata": {},
   "outputs": [
    {
     "name": "stdout",
     "output_type": "stream",
     "text": [
      "['aa', 'b']\n",
      "[2]\n",
      "[2, 2]\n"
     ]
    },
    {
     "data": {
      "text/plain": [
       "'aa'"
      ]
     },
     "execution_count": 33,
     "metadata": {},
     "output_type": "execute_result"
    }
   ],
   "source": [
    "def high(x):\n",
    "    sum=0\n",
    "    letters=['a','b','c','d','e','f','g','h','i','j','k','l','m','n','o','p','q','r','s','t','u','v','w','x','y','z']\n",
    "    list2=x.lower().split()\n",
    "    listr=[]\n",
    "    print (list2)\n",
    "    for i in list2:\n",
    "        for j in i:\n",
    "            for k in range (len(letters)):\n",
    "                if j== letters[k]:\n",
    "                    sum+= k+1\n",
    "        listr.append(sum)\n",
    "        sum=0\n",
    "        print (listr)\n",
    "    for i in range (len(listr)):\n",
    "        if max(listr)==listr[i]:\n",
    "            s=i\n",
    "            break\n",
    "    return list2[s]\n",
    "high('aa b')\n",
    "\n",
    "    "
   ]
  },
  {
   "cell_type": "code",
   "execution_count": 2,
   "metadata": {},
   "outputs": [
    {
     "data": {
      "text/plain": [
       "2"
      ]
     },
     "execution_count": 2,
     "metadata": {},
     "output_type": "execute_result"
    }
   ],
   "source": [
    "def find_uniq(arr):\n",
    "    arr.append(\"\")\n",
    "    for i in range(len(arr)-1):\n",
    "        if arr[i]!= arr[i+1]:\n",
    "            if arr.count(arr[i])==1:\n",
    "                n=arr[i]\n",
    "    return n\n",
    "find_uniq([ 1, 1, 1, 2, 1, 1 ])"
   ]
  },
  {
   "cell_type": "code",
   "execution_count": 55,
   "metadata": {},
   "outputs": [
    {
     "data": {
      "text/plain": [
       "'XCI'"
      ]
     },
     "execution_count": 55,
     "metadata": {},
     "output_type": "execute_result"
    }
   ],
   "source": [
    "def solution(n):\n",
    "    I=['','I','II','III','IV','V','VI','VII','VIII','IX']\n",
    "    X=['','X','XX','XXX','XL','L','LX','LXX','LXXX','XC']\n",
    "    C=['', 'C', 'CC', 'CCC', 'CD', 'D', 'DC', 'DCC', 'DCCC', 'CM']\n",
    "    M=['','M','MM','MMM']\n",
    "    \n",
    "    miles= M[int(n/1000)]\n",
    "    cientos= C[int((n%1000)/100)]\n",
    "    decenas= X[int((n%100)/10)]\n",
    "    unidades= I[n%10]\n",
    "    resultado=miles+ cientos+decenas+unidades\n",
    "    return resultado\n",
    "solution(91)\n"
   ]
  },
  {
   "cell_type": "code",
   "execution_count": 71,
   "metadata": {},
   "outputs": [
    {
     "name": "stdout",
     "output_type": "stream",
     "text": [
      "[2, 6, 5]\n"
     ]
    },
    {
     "data": {
      "text/plain": [
       "2"
      ]
     },
     "execution_count": 71,
     "metadata": {},
     "output_type": "execute_result"
    }
   ],
   "source": [
    "def cakes(recipe, available):\n",
    "    listr=[]\n",
    "    if len(recipe)> len(available):\n",
    "        return 0\n",
    "    else:\n",
    "        for i in recipe:\n",
    "            if i in available:\n",
    "                listr.append(int(available[i]/recipe[i]))\n",
    "            else:\n",
    "                return 0\n",
    "    return min(listr)\n",
    "\n",
    "recipe = {\"flour\": 500, \"sugar\": 200, \"eggs\": 1}\n",
    "available = {\"flour\": 1200, \"sugar\": 1200, \"eggs\": 5, \"milk\": 200}\n",
    "cakes(recipe, available)"
   ]
  },
  {
   "cell_type": "code",
   "execution_count": 16,
   "metadata": {},
   "outputs": [
    {
     "data": {
      "text/plain": [
       "'MMCCXI'"
      ]
     },
     "execution_count": 16,
     "metadata": {},
     "output_type": "execute_result"
    }
   ],
   "source": [
    "def to_roman(val):\n",
    "    unidad=['','I','II','III','IV','V','VI','VII','VIII','IX']\n",
    "    decena=['','X', 'XX', 'XXX', 'XL', 'L', 'LX', 'LXX', 'LXXX', 'XC']\n",
    "    centena=['','C', 'CC', 'CCC', 'CD', 'D', 'DC', 'DCC', 'DCCC', 'CM']\n",
    "    miles=['','M','MM', 'MMM']\n",
    "    lista=[]\n",
    "    lista.append(miles[int(val/1000)])\n",
    "    lista.append(centena[int((val%1000)/100)])\n",
    "    lista.append(decena[int((val%100)/10)])\n",
    "    lista.append(unidad[int(val%10)])\n",
    "    resultado=''.join(lista)\n",
    "    return resultado\n",
    "to_roman(1200)"
   ]
  }
 ],
 "metadata": {
  "kernelspec": {
   "display_name": "Python 3",
   "language": "python",
   "name": "python3"
  },
  "language_info": {
   "codemirror_mode": {
    "name": "ipython",
    "version": 3
   },
   "file_extension": ".py",
   "mimetype": "text/x-python",
   "name": "python",
   "nbconvert_exporter": "python",
   "pygments_lexer": "ipython3",
   "version": "3.7.8"
  },
  "orig_nbformat": 4,
  "vscode": {
   "interpreter": {
    "hash": "7e2d346e60102c9563dafef1d99ea3d3a1269e5dd081f0a97d00c48dcdc257ef"
   }
  }
 },
 "nbformat": 4,
 "nbformat_minor": 2
}
