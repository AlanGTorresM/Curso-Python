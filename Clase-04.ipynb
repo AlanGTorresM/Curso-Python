{
 "cells": [
  {
   "attachments": {},
   "cell_type": "markdown",
   "metadata": {},
   "source": [
    "# FUNCIONES"
   ]
  },
  {
   "cell_type": "code",
   "execution_count": 6,
   "metadata": {},
   "outputs": [
    {
     "data": {
      "text/plain": [
       "'La suma es 18'"
      ]
     },
     "execution_count": 6,
     "metadata": {},
     "output_type": "execute_result"
    }
   ],
   "source": [
    "# SE CARACTERIZAN POR TENER ESTRUCTURA FUNCION(PARAMETROS)\n",
    "# def es una palabra reservada para crear funciones\n",
    "def sumar(a,b):\n",
    "\n",
    "\n",
    "    \"\"\"FUNCION PARA SUMAR 2 NUMEROS\n",
    "    ## PARAMETROS\n",
    "    A,B: VALORES ENTEROS\n",
    "    ## RETURN\n",
    "    LA SUMA DE A CON B\n",
    "    \"\"\"\n",
    "    resultado=a+b\n",
    "    return (f'La suma es {resultado}')\n",
    "sumar(8,10)"
   ]
  },
  {
   "cell_type": "code",
   "execution_count": 9,
   "metadata": {},
   "outputs": [
    {
     "data": {
      "text/plain": [
       "19.76"
      ]
     },
     "execution_count": 9,
     "metadata": {},
     "output_type": "execute_result"
    }
   ],
   "source": [
    "def DolaresAPesos(dolar):\n",
    "    pesos=dolar*19.76\n",
    "    \"\"\"Funcion para devolver dolares a pesos\n",
    "    ## PARAMETROS\n",
    "    dolar: VALOR ENTERO O FLOTANTE\n",
    "    ## RETURN\n",
    "    LA MULTIPLICACION DE DOLAR POR 19.76\n",
    "    \"\"\"\n",
    "    return pesos\n",
    "DolaresAPesos(int(input(\"ingresa la cantidad de dolares: \")))"
   ]
  },
  {
   "cell_type": "code",
   "execution_count": 14,
   "metadata": {},
   "outputs": [
    {
     "data": {
      "text/plain": [
       "3.0"
      ]
     },
     "execution_count": 14,
     "metadata": {},
     "output_type": "execute_result"
    }
   ],
   "source": [
    "def prom(lista):\n",
    "   resultado=sum(lista)/len(lista)\n",
    "   return resultado\n",
    "prom([1,2,3,4,5])"
   ]
  }
 ],
 "metadata": {
  "kernelspec": {
   "display_name": "Python 3",
   "language": "python",
   "name": "python3"
  },
  "language_info": {
   "codemirror_mode": {
    "name": "ipython",
    "version": 3
   },
   "file_extension": ".py",
   "mimetype": "text/x-python",
   "name": "python",
   "nbconvert_exporter": "python",
   "pygments_lexer": "ipython3",
   "version": "3.7.8 (tags/v3.7.8:4b47a5b6ba, Jun 28 2020, 08:53:46) [MSC v.1916 64 bit (AMD64)]"
  },
  "orig_nbformat": 4,
  "vscode": {
   "interpreter": {
    "hash": "7e2d346e60102c9563dafef1d99ea3d3a1269e5dd081f0a97d00c48dcdc257ef"
   }
  }
 },
 "nbformat": 4,
 "nbformat_minor": 2
}
