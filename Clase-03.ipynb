{
 "cells": [
  {
   "attachments": {},
   "cell_type": "markdown",
   "metadata": {},
   "source": [
    "# While"
   ]
  },
  {
   "cell_type": "code",
   "execution_count": 2,
   "metadata": {},
   "outputs": [
    {
     "name": "stdout",
     "output_type": "stream",
     "text": [
      "se comple la condicion\n",
      "se comple la condicion\n",
      "se comple la condicion\n",
      "se comple la condicion\n",
      "se comple la condicion\n",
      "se comple la condicion\n"
     ]
    }
   ],
   "source": [
    "i=0\n",
    "while i<=5:\n",
    "    print(\"se comple la condicion\")\n",
    "    i+=1\n"
   ]
  },
  {
   "cell_type": "code",
   "execution_count": 4,
   "metadata": {},
   "outputs": [
    {
     "name": "stdout",
     "output_type": "stream",
     "text": [
      "Necesitas crear una contraseña de mas de 6 digitos\n",
      "Necesitas crear una contraseña de mas de 6 digitos\n"
     ]
    }
   ],
   "source": [
    "aut=0\n",
    "while aut==0:\n",
    "    username=input(\"Cual es tu nombre?\")\n",
    "    password=input(\"Cual es tu contraseña?\")\n",
    "\n",
    "    if len(password)<6:\n",
    "        print(\"Necesitas crear una contraseña de mas de 6 digitos\")\n",
    "    else:\n",
    "        print(\"usuario registrado\")\n",
    "        aut+=1\n"
   ]
  },
  {
   "attachments": {},
   "cell_type": "markdown",
   "metadata": {},
   "source": [
    "# FOR"
   ]
  },
  {
   "cell_type": "code",
   "execution_count": 6,
   "metadata": {},
   "outputs": [
    {
     "name": "stdout",
     "output_type": "stream",
     "text": [
      "hola mundo\n",
      "hola mundo\n",
      "hola mundo\n",
      "hola mundo\n",
      "hola mundo\n",
      "hola mundo\n",
      "hola mundo\n",
      "hola mundo\n",
      "hola mundo\n",
      "hola mundo\n"
     ]
    }
   ],
   "source": [
    "# For de rangos\n",
    "for i in range (10):\n",
    "    print(\"hola mundo\")\n",
    "# for es el ciclo\n",
    "# i es el valor que cambia\n",
    "# in define los rangos\n",
    "# range rango"
   ]
  },
  {
   "cell_type": "code",
   "execution_count": 8,
   "metadata": {},
   "outputs": [
    {
     "name": "stdout",
     "output_type": "stream",
     "text": [
      "0\n",
      "1\n",
      "2\n",
      "3\n",
      "4\n",
      "5\n",
      "6\n",
      "7\n",
      "8\n",
      "9\n"
     ]
    }
   ],
   "source": [
    "for i in range(10):\n",
    "    print(i)\n",
    "    "
   ]
  },
  {
   "cell_type": "code",
   "execution_count": 10,
   "metadata": {},
   "outputs": [
    {
     "name": "stdout",
     "output_type": "stream",
     "text": [
      "5\n",
      "6\n",
      "7\n",
      "8\n",
      "9\n",
      "10\n",
      "11\n",
      "12\n",
      "13\n",
      "14\n"
     ]
    }
   ],
   "source": [
    "# For de rangos\n",
    "for i in range(5,15):\n",
    "    print (i)"
   ]
  },
  {
   "cell_type": "code",
   "execution_count": 12,
   "metadata": {},
   "outputs": [
    {
     "name": "stdout",
     "output_type": "stream",
     "text": [
      "5\n",
      "7\n",
      "9\n",
      "11\n",
      "13\n",
      "15\n",
      "17\n",
      "19\n",
      "21\n",
      "23\n"
     ]
    }
   ],
   "source": [
    "#para saltar de n numeros a n numeros\n",
    "for i in range(5,25,2):\n",
    "    print (i)"
   ]
  },
  {
   "cell_type": "code",
   "execution_count": 15,
   "metadata": {},
   "outputs": [
    {
     "name": "stdout",
     "output_type": "stream",
     "text": [
      "0\n",
      "1\n",
      "2\n",
      "3\n",
      "4\n"
     ]
    }
   ],
   "source": [
    "n= int (input(\"cuantas veces se va a repetir?\"))\n",
    "for i in range(n):\n",
    "    print(i)"
   ]
  },
  {
   "cell_type": "code",
   "execution_count": 17,
   "metadata": {},
   "outputs": [
    {
     "name": "stdout",
     "output_type": "stream",
     "text": [
      "Hola\n",
      "esto pertenece\n",
      "al for\n",
      "Hola\n",
      "esto pertenece\n",
      "al for\n",
      "Hola\n",
      "esto pertenece\n",
      "al for\n",
      "Esto ya no\n"
     ]
    }
   ],
   "source": [
    "#identacion\n",
    "for i in range(3):\n",
    "    print(\"Hola\")\n",
    "    print(\"esto pertenece\")\n",
    "    print(\"al for\")\n",
    "print(\"Esto ya no\")"
   ]
  },
  {
   "cell_type": "code",
   "execution_count": 19,
   "metadata": {},
   "outputs": [
    {
     "name": "stdout",
     "output_type": "stream",
     "text": [
      "[0, 1, 4, 9, 16, 25, 36, 49, 64, 81]\n"
     ]
    }
   ],
   "source": [
    "numeros_cuadrado=[]\n",
    "for i in range(10):\n",
    "    numeros_cuadrado.append(i**2)\n",
    "print(numeros_cuadrado)"
   ]
  },
  {
   "cell_type": "code",
   "execution_count": 22,
   "metadata": {},
   "outputs": [
    {
     "name": "stdout",
     "output_type": "stream",
     "text": [
      "mazana\n",
      "pera\n",
      "guayaba\n",
      "melon\n"
     ]
    }
   ],
   "source": [
    "mis_frutas= [\"mazana\",\"pera\",\"guayaba\",\"melon\",\"uva\"]\n",
    "for i in range(4):\n",
    "    print(mis_frutas[i])"
   ]
  },
  {
   "cell_type": "code",
   "execution_count": 25,
   "metadata": {},
   "outputs": [
    {
     "name": "stdout",
     "output_type": "stream",
     "text": [
      "mazana\n",
      "pera\n",
      "guayaba\n",
      "melon\n",
      "uva\n"
     ]
    }
   ],
   "source": [
    "for i in range(len(mis_frutas)):\n",
    "    print(mis_frutas[i])"
   ]
  },
  {
   "cell_type": "code",
   "execution_count": 26,
   "metadata": {},
   "outputs": [
    {
     "name": "stdout",
     "output_type": "stream",
     "text": [
      "mazana\n",
      "pera\n",
      "guayaba\n",
      "melon\n",
      "uva\n"
     ]
    }
   ],
   "source": [
    "#For de elementos\n",
    "for element in mis_frutas:\n",
    "    print(element)"
   ]
  },
  {
   "cell_type": "code",
   "execution_count": 36,
   "metadata": {},
   "outputs": [
    {
     "name": "stdout",
     "output_type": "stream",
     "text": [
      "[1, 3, 4]\n",
      "2.6666666666666665\n",
      "reprobadote tu calificacion es de 2.6666666666666665\n"
     ]
    }
   ],
   "source": [
    "calificaciones= int(input(\"cuantas calificaciones vas a meter: \"))\n",
    "cali=[]\n",
    "for i in range(calificaciones):\n",
    "    cali.append(int(input(\"Agrega calificacion\")))\n",
    "print(cali)\n",
    "print(sum(cali)/len(cali))\n",
    "if sum(cali)/len(cali)<=5:\n",
    "    print(f\"reprobadote tu calificacion es de {sum(cali)/len(cali)}\")\n",
    "else:\n",
    "    print(f\"felichidae manitu voce sacar {sum(cali)/len(cali)} aprobado\")"
   ]
  },
  {
   "attachments": {},
   "cell_type": "markdown",
   "metadata": {},
   "source": [
    "# Errores"
   ]
  },
  {
   "cell_type": "code",
   "execution_count": 38,
   "metadata": {},
   "outputs": [
    {
     "name": "stdout",
     "output_type": "stream",
     "text": [
      "name 'suma' is not defined\n"
     ]
    }
   ],
   "source": [
    "try:\n",
    "    print(f'La suma es {suma}')\n",
    "except Exception as error:\n",
    "    print(error)"
   ]
  },
  {
   "cell_type": "code",
   "execution_count": 39,
   "metadata": {},
   "outputs": [
    {
     "name": "stdout",
     "output_type": "stream",
     "text": [
      "Trataste de dividar entre 0\n"
     ]
    }
   ],
   "source": [
    "try:\n",
    "    print(0/0)\n",
    "except ZeroDivisionError:\n",
    "    print(\"Trataste de dividar entre 0\")"
   ]
  }
 ],
 "metadata": {
  "kernelspec": {
   "display_name": "Python 3",
   "language": "python",
   "name": "python3"
  },
  "language_info": {
   "codemirror_mode": {
    "name": "ipython",
    "version": 3
   },
   "file_extension": ".py",
   "mimetype": "text/x-python",
   "name": "python",
   "nbconvert_exporter": "python",
   "pygments_lexer": "ipython3",
   "version": "3.7.8"
  },
  "orig_nbformat": 4,
  "vscode": {
   "interpreter": {
    "hash": "7e2d346e60102c9563dafef1d99ea3d3a1269e5dd081f0a97d00c48dcdc257ef"
   }
  }
 },
 "nbformat": 4,
 "nbformat_minor": 2
}
