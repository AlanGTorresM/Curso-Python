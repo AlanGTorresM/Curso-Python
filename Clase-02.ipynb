{
 "cells": [
  {
   "cell_type": "markdown",
   "metadata": {},
   "source": [
    "# Else if"
   ]
  },
  {
   "cell_type": "code",
   "execution_count": 4,
   "metadata": {},
   "outputs": [
    {
     "name": "stdout",
     "output_type": "stream",
     "text": [
      "El trabajador va a recibir $40\n"
     ]
    }
   ],
   "source": [
    "cantidad_horas= int(input(\"Horas trabajadas\"))\n",
    "sueldo= int(input(\"sueldo\"))\n",
    "if cantidad_horas>=50:\n",
    "    horas= (cantidad_horas-50)*3+20+39\n",
    "elif cantidad_horas >=40:\n",
    "    horas= (cantidad_horas-40)*2+39\n",
    "else:\n",
    "    horas=cantidad_horas\n",
    "pago= horas * sueldo\n",
    "print(f\"El trabajador va a recibir ${pago}\")"
   ]
  },
  {
   "cell_type": "markdown",
   "metadata": {},
   "source": [
    "# LISTAS"
   ]
  },
  {
   "cell_type": "code",
   "execution_count": 5,
   "metadata": {},
   "outputs": [
    {
     "name": "stdout",
     "output_type": "stream",
     "text": [
      "['mandarina', 'pera', 'sandia']\n"
     ]
    }
   ],
   "source": [
    "mis_frutas=[\"mandarina\",\"pera\",\"sandia\"]\n",
    "print(mis_frutas)"
   ]
  },
  {
   "cell_type": "code",
   "execution_count": 6,
   "metadata": {},
   "outputs": [
    {
     "name": "stdout",
     "output_type": "stream",
     "text": [
      "['mandarina', 'pera', 'sandia', 'naranja']\n"
     ]
    }
   ],
   "source": [
    "# el metodo .append agrega a la lista\n",
    "mis_frutas.append(\"naranja\")\n",
    "print(mis_frutas)"
   ]
  },
  {
   "cell_type": "code",
   "execution_count": 7,
   "metadata": {},
   "outputs": [
    {
     "name": "stdout",
     "output_type": "stream",
     "text": [
      "['mandarina', 'pera']\n",
      "['sandia', 'naranja']\n",
      "El\n",
      "castillo\n",
      "Vagabundo\n"
     ]
    }
   ],
   "source": [
    "#Slice corta se maneja como parametro inicial y final NInicial:NFinal\n",
    "print(mis_frutas[0:2])\n",
    "print(mis_frutas[2:4])\n",
    "palabra = \"El castillo Vagabundo\"\n",
    "print(palabra[0:2])\n",
    "print(palabra[3:11])\n",
    "print(palabra[12:21])"
   ]
  },
  {
   "cell_type": "code",
   "execution_count": 8,
   "metadata": {},
   "outputs": [
    {
     "data": {
      "text/plain": [
       "'naranja'"
      ]
     },
     "execution_count": 8,
     "metadata": {},
     "output_type": "execute_result"
    }
   ],
   "source": [
    "# si tienes un elemento negativo puedes llegar a los ultimos valores\n",
    "mis_frutas[-1]"
   ]
  },
  {
   "cell_type": "code",
   "execution_count": 9,
   "metadata": {},
   "outputs": [],
   "source": [
    "# Mis numeros\n",
    "mis_numeros=[12,3,4,19,15,1,17,7,6,10]"
   ]
  },
  {
   "cell_type": "code",
   "execution_count": 10,
   "metadata": {},
   "outputs": [
    {
     "name": "stdout",
     "output_type": "stream",
     "text": [
      "[1, 3, 4, 6, 7, 10, 12, 15, 17, 19]\n"
     ]
    }
   ],
   "source": [
    "mis_numeros.sort()\n",
    "print(mis_numeros)\n",
    "#y para hacerlo al reves se usa .reverse\n",
    "#o .sort(reverse=true)"
   ]
  },
  {
   "cell_type": "code",
   "execution_count": 11,
   "metadata": {},
   "outputs": [
    {
     "name": "stdout",
     "output_type": "stream",
     "text": [
      "1\n"
     ]
    }
   ],
   "source": [
    "#.count(NUMERO) cuenta cuantas veces encuentra un numero\n",
    "print(mis_numeros.count(3))"
   ]
  },
  {
   "cell_type": "markdown",
   "metadata": {},
   "source": [
    "# Funciones para listas"
   ]
  },
  {
   "cell_type": "code",
   "execution_count": 12,
   "metadata": {},
   "outputs": [
    {
     "data": {
      "text/plain": [
       "94"
      ]
     },
     "execution_count": 12,
     "metadata": {},
     "output_type": "execute_result"
    }
   ],
   "source": [
    "sum(mis_numeros)"
   ]
  },
  {
   "cell_type": "markdown",
   "metadata": {},
   "source": [
    "$$\\frac{1}{2}\\sum{i}^{n} x_i$$"
   ]
  },
  {
   "cell_type": "code",
   "execution_count": 13,
   "metadata": {},
   "outputs": [
    {
     "name": "stdout",
     "output_type": "stream",
     "text": [
      "9.4\n"
     ]
    }
   ],
   "source": [
    "prom=(sum(mis_numeros))/len(mis_numeros)\n",
    "print(prom)\n"
   ]
  },
  {
   "cell_type": "code",
   "execution_count": 14,
   "metadata": {},
   "outputs": [
    {
     "data": {
      "text/plain": [
       "10"
      ]
     },
     "execution_count": 14,
     "metadata": {},
     "output_type": "execute_result"
    }
   ],
   "source": [
    "#len es como el length en java\n",
    "len(mis_numeros)"
   ]
  },
  {
   "cell_type": "code",
   "execution_count": 15,
   "metadata": {},
   "outputs": [
    {
     "name": "stdout",
     "output_type": "stream",
     "text": [
      "1\n",
      "19\n"
     ]
    }
   ],
   "source": [
    "# min() max()\n",
    "print(min(mis_numeros))\n",
    "print(max(mis_numeros))"
   ]
  },
  {
   "cell_type": "markdown",
   "metadata": {},
   "source": [
    "git add .\n",
    "git status\n",
    "git commit -m \"Clase2\"\n",
    "git push origin main\n",
    "CREAR EL LIBRO DE CLASE 2 DESDE ELIF\n"
   ]
  }
 ],
 "metadata": {
  "kernelspec": {
   "display_name": "Python 3.7.8 64-bit",
   "language": "python",
   "name": "python3"
  },
  "language_info": {
   "codemirror_mode": {
    "name": "ipython",
    "version": 3
   },
   "file_extension": ".py",
   "mimetype": "text/x-python",
   "name": "python",
   "nbconvert_exporter": "python",
   "pygments_lexer": "ipython3",
   "version": "3.7.8"
  },
  "orig_nbformat": 4,
  "vscode": {
   "interpreter": {
    "hash": "7e2d346e60102c9563dafef1d99ea3d3a1269e5dd081f0a97d00c48dcdc257ef"
   }
  }
 },
 "nbformat": 4,
 "nbformat_minor": 2
}
